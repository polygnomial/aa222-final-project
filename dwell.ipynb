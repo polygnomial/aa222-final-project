{
 "cells": [
  {
   "cell_type": "code",
   "execution_count": 1,
   "id": "629e727d-c341-40cf-8c87-a6fd1e8cfe82",
   "metadata": {},
   "outputs": [
    {
     "data": {
      "application/vnd.webio.node+json": {
       "children": [],
       "instanceArgs": {
        "namespace": "html",
        "tag": "div"
       },
       "nodeType": "DOM",
       "props": {},
       "type": "node"
      },
      "text/html": [
       "<div style=\"padding: 1em; background-color: #f8d6da; border: 1px solid #f5c6cb; font-weight: bold;\">\n",
       "<p>The WebIO Jupyter extension was not detected. See the\n",
       "<a href=\"https://juliagizmos.github.io/WebIO.jl/latest/providers/ijulia/\" target=\"_blank\">\n",
       "    WebIO Jupyter integration documentation\n",
       "</a>\n",
       "for more information.\n",
       "</div>\n"
      ],
      "text/plain": [
       "WebIO._IJuliaInit()"
      ]
     },
     "metadata": {
      "@webio": {
       "kernelId": "64f9ad98-dafe-47b8-aee4-d4254c9cf730"
      }
     },
     "output_type": "display_data"
    }
   ],
   "source": [
    "include(\"JQlaw.jl\")\n",
    "using .JQlaw\n",
    "using Plotly"
   ]
  },
  {
   "cell_type": "code",
   "execution_count": 6,
   "id": "e31487a4-a5e3-4764-bafa-aa0128c09d82",
   "metadata": {},
   "outputs": [
    {
     "name": "stdout",
     "output_type": "stream",
     "text": [
      "Starting integration...\n",
      "Integration finished!\n"
     ]
    },
    {
     "data": {
      "text/plain": [
       "\"orbit_propogator.png\""
      ]
     },
     "execution_count": 6,
     "metadata": {},
     "output_type": "execute_result"
    }
   ],
   "source": [
    "# Create starting orbit and time, end time, step size\n",
    "orbit_inital_keplarian = KeplarianOrbit(\n",
    "                450000. + R_e,\n",
    "                0.001,\n",
    "                deg2rad(0.001),\n",
    "                deg2rad(0.001),\n",
    "                deg2rad(0.001),\n",
    "                deg2rad(0)\n",
    "                )\n",
    "orbit_initial_equinoctial = Keplarian2Equinoctial(orbit_inital_keplarian)\n",
    "orbit_initial = [orbit_initial_equinoctial.p,\n",
    "                orbit_initial_equinoctial.f,\n",
    "                orbit_initial_equinoctial.g,\n",
    "                orbit_initial_equinoctial.h,\n",
    "                orbit_initial_equinoctial.k,\n",
    "                orbit_initial_equinoctial.L]\n",
    "\n",
    "time_initial = 59715.0 # MJD\n",
    "time_end = time_initial + (90. / 60. / 24.) # stop integrator after this time\n",
    "step_size = 1. # seconds\n",
    "\n",
    "# Initialize history to store propogated orbits and error bounds\n",
    "orbit_history = [orbit_initial]\n",
    "error_history = [[0.,0.,0.,0.,0.,0.]]\n",
    "time_history = [time_initial]\n",
    "\n",
    "# Integrate orbit with no external forces\n",
    "time = time_initial\n",
    "print(\"Starting integration...\\n\")\n",
    "while time < time_end\n",
    "    global time = time_history[end]\n",
    "    orbit = orbit_history[end]\n",
    "    orbit_new, error = RK45(orbit, time, step_size, dOEdt = GaussVariationalEquationsEquinoctial)\n",
    "    push!(time_history, time + (step_size / 60. / 60. / 24.))\n",
    "    push!(orbit_history, orbit_new)\n",
    "    push!(error_history, error)\n",
    "end\n",
    "print(\"Integration finished!\\n\")\n",
    "\n",
    "# store ECI terms\n",
    "ECI_x = []\n",
    "ECI_y = []\n",
    "ECI_z = []\n",
    "for orbit in orbit_history\n",
    "    equinoctial_orbit = EquinoctialOrbit(orbit[1], orbit[2], orbit[3], orbit[4], orbit[5], orbit[6])\n",
    "    ECI_orbit = Equinoctial2ECI(equinoctial_orbit)\n",
    "    push!(ECI_x, ECI_orbit[1])\n",
    "    push!(ECI_y, ECI_orbit[2])\n",
    "    push!(ECI_z, ECI_orbit[3])\n",
    "end\n",
    "\n",
    "# plot orbit\n",
    "n = 10\n",
    "u = collect(range(0,2*π, length = n))\n",
    "v = collect(range(0,π, length = n))\n",
    "r_e = 6378.\n",
    "\n",
    "u_range = range(0, stop=2π, length=100)\n",
    "u = u_range' .* ones(100)\n",
    "v_range = range(0, stop=π, length=100)\n",
    "v = ones(100)' .* v_range\n",
    "\n",
    "x = @. r_e * cos(u) * sin(v)\n",
    "y = @. r_e * sin(u) * sin(v)\n",
    "z = @. r_e * cos(v)\n",
    "\n",
    "layout = Layout(title=\"Demonatration of Numerical Propogator\")\n",
    "trace1 = surface(x=x, y=y, z=z, showscale=false)\n",
    "trace2 = scatter3d(x=(ECI_x ./ 1000), y=(ECI_y ./ 1000), z=(ECI_z ./ 1000),\n",
    "    mode=\"markers\",\n",
    "    marker=attr(\n",
    "        size=1,\n",
    "    ))\n",
    "p = plot([trace1, trace2], layout)\n",
    "savefig(p, \"orbit_propogator.png\")\n",
    "# Propogate orbit with known solutions to determine error\n",
    "#TBD!!!\n",
    "# Plot differences and compare to error from integrator\n",
    "#TBD!!!"
   ]
  },
  {
   "cell_type": "code",
   "execution_count": null,
   "id": "04962ee8-bf77-461f-bcae-cb981069e913",
   "metadata": {},
   "outputs": [],
   "source": []
  }
 ],
 "metadata": {
  "@webio": {
   "lastCommId": "068a1481-0598-4359-921a-7560d94c40d5",
   "lastKernelId": "4f20bec1-d292-4dca-934e-75461ebd5de9"
  },
  "kernelspec": {
   "display_name": "Julia 1.6.2",
   "language": "julia",
   "name": "julia-1.6"
  },
  "language_info": {
   "file_extension": ".jl",
   "mimetype": "application/julia",
   "name": "julia",
   "version": "1.6.2"
  }
 },
 "nbformat": 4,
 "nbformat_minor": 5
}
