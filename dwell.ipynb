{
 "cells": [
  {
   "cell_type": "code",
   "execution_count": 1,
   "id": "629e727d-c341-40cf-8c87-a6fd1e8cfe82",
   "metadata": {},
   "outputs": [
    {
     "data": {
      "application/vnd.webio.node+json": {
       "children": [],
       "instanceArgs": {
        "namespace": "html",
        "tag": "div"
       },
       "nodeType": "DOM",
       "props": {},
       "type": "node"
      },
      "text/html": [
       "<div style=\"padding: 1em; background-color: #f8d6da; border: 1px solid #f5c6cb; font-weight: bold;\">\n",
       "<p>The WebIO Jupyter extension was not detected. See the\n",
       "<a href=\"https://juliagizmos.github.io/WebIO.jl/latest/providers/ijulia/\" target=\"_blank\">\n",
       "    WebIO Jupyter integration documentation\n",
       "</a>\n",
       "for more information.\n",
       "</div>\n"
      ],
      "text/plain": [
       "WebIO._IJuliaInit()"
      ]
     },
     "metadata": {
      "@webio": {
       "kernelId": "6fa14a44-46ae-4805-b022-98fcf8b7c2f0"
      }
     },
     "output_type": "display_data"
    },
    {
     "name": "stderr",
     "output_type": "stream",
     "text": [
      "┌ Warning: Error requiring `WebSockets` from `WebIO`\n",
      "│   exception = (LoadError(\"/Users/flynn/.julia/packages/WebIO/VF9p5/src/providers/generic_http.jl\", 15, ErrorException(\"Unable to find WebIO JavaScript bundle for generic HTTP provider; try rebuilding WebIO (via `Pkg.build(\\\"WebIO\\\")`).\")), Union{Ptr{Nothing}, Base.InterpreterIP}[Ptr{Nothing} @0x000000013947808b, Ptr{Nothing} @0x00000001030dca47, Ptr{Nothing} @0x00000001030f60c7, Ptr{Nothing} @0x00000001030f49df, Ptr{Nothing} @0x00000001030f4fa7, Base.InterpreterIP in top-level CodeInfo for WebIO at statement 4, Ptr{Nothing} @0x000000010310ca4b, Ptr{Nothing} @0x000000010310c8cb, Ptr{Nothing} @0x000000010310d62f, Ptr{Nothing} @0x00000001393e0903, Ptr{Nothing} @0x000000010e1b7ddb, Ptr{Nothing} @0x00000001030dca47, Ptr{Nothing} @0x00000001030f60c7, Ptr{Nothing} @0x00000001030f49df, Ptr{Nothing} @0x00000001030f4fa7, Base.InterpreterIP in top-level CodeInfo for WebIO at statement 10, Ptr{Nothing} @0x000000010310ca4b, Ptr{Nothing} @0x000000010310d62f, Ptr{Nothing} @0x000000010e1cab37, Ptr{Nothing} @0x000000010e1cab5f, Ptr{Nothing} @0x00000001030dca47, Ptr{Nothing} @0x00000001030f60c7, Ptr{Nothing} @0x00000001030f473f, Ptr{Nothing} @0x00000001030f4c0f, Ptr{Nothing} @0x00000001030f43d7, Base.InterpreterIP in MethodInstance for Requires.err(::Any, ::Module, ::String, ::String, ::Any) at statement 8, Ptr{Nothing} @0x000000010e1caa63, Ptr{Nothing} @0x000000010e1caa7f, Ptr{Nothing} @0x00000001030dca47, Ptr{Nothing} @0x00000001030f60c7, Ptr{Nothing} @0x00000001030f473f, Ptr{Nothing} @0x00000001030f4c0f, Ptr{Nothing} @0x00000001030f43d7, Base.InterpreterIP in MethodInstance for Requires.withpath(::Any, ::String) at statement 10, Ptr{Nothing} @0x000000010e1ca907, Ptr{Nothing} @0x000000010e1ca9a3, Ptr{Nothing} @0x00000001030dca47, Ptr{Nothing} @0x00000001030e98f7, Ptr{Nothing} @0x000000010e1ca7a3, Ptr{Nothing} @0x00000001030dca47, Ptr{Nothing} @0x00000001030f60c7, Ptr{Nothing} @0x00000001030f49df, Ptr{Nothing} @0x00000001030f43d7, Base.InterpreterIP in MethodInstance for Requires.loadpkg(::Base.PkgId) at statement 6, Ptr{Nothing} @0x00000001030dca47, Ptr{Nothing} @0x00000001030e98f7, Ptr{Nothing} @0x000000010e17e137, Ptr{Nothing} @0x000000010e17ce23, Ptr{Nothing} @0x000000010e17e047, Ptr{Nothing} @0x000000010e17ce23, Ptr{Nothing} @0x000000010e180337, Ptr{Nothing} @0x000000010e182747, Ptr{Nothing} @0x000000010e18349f, Ptr{Nothing} @0x00000001030dca47, Ptr{Nothing} @0x000000010310d0e7, Ptr{Nothing} @0x000000010310bfab, Ptr{Nothing} @0x000000010310c8cb, Ptr{Nothing} @0x000000010310d62f, Ptr{Nothing} @0x000000010e1b421f, Ptr{Nothing} @0x000000010e1b46eb, Ptr{Nothing} @0x00000001030dca47, Ptr{Nothing} @0x000000010e1b16ab, Ptr{Nothing} @0x00000001030dca47, Ptr{Nothing} @0x00000001030e98f7, Ptr{Nothing} @0x000000010e1a7f4f, Ptr{Nothing} @0x000000010e1a87db, Ptr{Nothing} @0x000000010e1a87ef, Ptr{Nothing} @0x00000001030dca47, Ptr{Nothing} @0x00000001030fa517])\n",
      "└ @ Requires /Users/flynn/.julia/packages/Requires/Z8rfN/src/require.jl:51\n",
      "┌ Warning: Kaleido is not available on this system. Julia will be unable to save images of any plots.\n",
      "└ @ PlotlyJS /Users/flynn/.julia/packages/PlotlyJS/4jzLr/src/kaleido.jl:65\n",
      "┌ Warning: UndefVarError(:artifact_dir)\n",
      "└ @ PlotlyJS /Users/flynn/.julia/packages/PlotlyJS/4jzLr/src/kaleido.jl:66\n"
     ]
    },
    {
     "ename": "LoadError",
     "evalue": "UndefVarError: plotlyjs not defined",
     "output_type": "error",
     "traceback": [
      "UndefVarError: plotlyjs not defined",
      "",
      "Stacktrace:",
      " [1] top-level scope",
      "   @ In[1]:4",
      " [2] eval",
      "   @ ./boot.jl:373 [inlined]",
      " [3] include_string(mapexpr::typeof(REPL.softscope), mod::Module, code::String, filename::String)",
      "   @ Base ./loading.jl:1196"
     ]
    }
   ],
   "source": [
    "include(\"JQlaw.jl\")\n",
    "using .JQlaw\n",
    "using Plotly"
   ]
  },
  {
   "cell_type": "code",
   "execution_count": 3,
   "id": "e31487a4-a5e3-4764-bafa-aa0128c09d82",
   "metadata": {},
   "outputs": [
    {
     "name": "stdout",
     "output_type": "stream",
     "text": [
      "Starting integration...\n",
      "Integration finished!\n"
     ]
    },
    {
     "name": "stderr",
     "output_type": "stream",
     "text": [
      "┌ Warning: Kaleido is not available on this system. Julia will be unable to save images of any plots.\n",
      "└ @ PlotlyJS /Users/flynn/.julia/packages/PlotlyJS/4jzLr/src/kaleido.jl:65\n",
      "┌ Warning: UndefVarError(:artifact_dir)\n",
      "└ @ PlotlyJS /Users/flynn/.julia/packages/PlotlyJS/4jzLr/src/kaleido.jl:66\n"
     ]
    },
    {
     "ename": "LoadError",
     "evalue": "UndefRefError: access to undefined reference",
     "output_type": "error",
     "traceback": [
      "UndefRefError: access to undefined reference",
      "",
      "Stacktrace:",
      "  [1] getproperty",
      "    @ ./Base.jl:42 [inlined]",
      "  [2] savefig(p::Plot{Vector{GenericTrace{Dict{Symbol, Any}}}, Layout{Dict{Symbol, Any}}, Vector{PlotlyFrame}}; width::Nothing, height::Nothing, scale::Nothing, format::String)",
      "    @ PlotlyJS ~/.julia/packages/PlotlyJS/4jzLr/src/kaleido.jl:98",
      "  [3] savefig(p::PlotlyJS.SyncPlot; kwargs::Base.Pairs{Symbol, Union{Nothing, String}, NTuple{4, Symbol}, NamedTuple{(:width, :height, :scale, :format), Tuple{Nothing, Nothing, Nothing, String}}})",
      "    @ PlotlyJS ~/.julia/packages/PlotlyJS/4jzLr/src/kaleido.jl:71",
      "  [4] savefig(io::IOStream, p::PlotlyJS.SyncPlot; width::Nothing, height::Nothing, scale::Nothing, format::String)",
      "    @ PlotlyJS ~/.julia/packages/PlotlyJS/4jzLr/src/kaleido.jl:154",
      "  [5] (::PlotlyJS.var\"#36#37\"{Nothing, Nothing, Nothing, PlotlyJS.SyncPlot})(f::IOStream)",
      "    @ PlotlyJS ~/.julia/packages/PlotlyJS/4jzLr/src/kaleido.jl:187",
      "  [6] open(::PlotlyJS.var\"#36#37\"{Nothing, Nothing, Nothing, PlotlyJS.SyncPlot}, ::String, ::Vararg{String}; kwargs::Base.Pairs{Symbol, Union{}, Tuple{}, NamedTuple{(), Tuple{}}})",
      "    @ Base ./io.jl:330",
      "  [7] open",
      "    @ ./io.jl:328 [inlined]",
      "  [8] savefig(p::PlotlyJS.SyncPlot, fn::String; format::Nothing, width::Nothing, height::Nothing, scale::Nothing)",
      "    @ PlotlyJS ~/.julia/packages/PlotlyJS/4jzLr/src/kaleido.jl:186",
      "  [9] savefig(p::PlotlyJS.SyncPlot, fn::String)",
      "    @ PlotlyJS ~/.julia/packages/PlotlyJS/4jzLr/src/kaleido.jl:181",
      " [10] top-level scope",
      "    @ In[3]:75",
      " [11] eval",
      "    @ ./boot.jl:373 [inlined]",
      " [12] include_string(mapexpr::typeof(REPL.softscope), mod::Module, code::String, filename::String)",
      "    @ Base ./loading.jl:1196"
     ]
    }
   ],
   "source": [
    "# Create starting orbit and time, end time, step size\n",
    "orbit_inital_keplarian = KeplarianOrbit(\n",
    "                450000. + R_e,\n",
    "                0.001,\n",
    "                deg2rad(0.001),\n",
    "                deg2rad(0.001),\n",
    "                deg2rad(0.001),\n",
    "                deg2rad(0)\n",
    "                )\n",
    "orbit_initial_equinoctial = Keplarian2Equinoctial(orbit_inital_keplarian)\n",
    "orbit_initial = [orbit_initial_equinoctial.p,\n",
    "                orbit_initial_equinoctial.f,\n",
    "                orbit_initial_equinoctial.g,\n",
    "                orbit_initial_equinoctial.h,\n",
    "                orbit_initial_equinoctial.k,\n",
    "                orbit_initial_equinoctial.L]\n",
    "\n",
    "time_initial = 59715.0 # MJD\n",
    "time_end = time_initial + (90. / 60. / 24.) # stop integrator after this time\n",
    "step_size = 1. # seconds\n",
    "\n",
    "# Initialize history to store propogated orbits and error bounds\n",
    "orbit_history = [orbit_initial]\n",
    "error_history = [[0.,0.,0.,0.,0.,0.]]\n",
    "time_history = [time_initial]\n",
    "\n",
    "# Integrate orbit with no external forces\n",
    "time = time_initial\n",
    "print(\"Starting integration...\\n\")\n",
    "while time < time_end\n",
    "    global time = time_history[end]\n",
    "    orbit = orbit_history[end]\n",
    "    orbit_new, error = RK45(orbit, time, step_size, dOEdt = GaussVariationalEquationsEquinoctial)\n",
    "    push!(time_history, time + (step_size / 60. / 60. / 24.))\n",
    "    push!(orbit_history, orbit_new)\n",
    "    push!(error_history, error)\n",
    "end\n",
    "print(\"Integration finished!\\n\")\n",
    "\n",
    "# store ECI terms\n",
    "ECI_x = []\n",
    "ECI_y = []\n",
    "ECI_z = []\n",
    "for orbit in orbit_history\n",
    "    equinoctial_orbit = EquinoctialOrbit(orbit[1], orbit[2], orbit[3], orbit[4], orbit[5], orbit[6])\n",
    "    ECI_orbit = Equinoctial2ECI(equinoctial_orbit)\n",
    "    push!(ECI_x, ECI_orbit[1])\n",
    "    push!(ECI_y, ECI_orbit[2])\n",
    "    push!(ECI_z, ECI_orbit[3])\n",
    "end\n",
    "\n",
    "# plot orbit\n",
    "n = 10\n",
    "u = collect(range(0,2*π, length = n))\n",
    "v = collect(range(0,π, length = n))\n",
    "r_e = 6378.\n",
    "\n",
    "u_range = range(0, stop=2π, length=100)\n",
    "u = u_range' .* ones(100)\n",
    "v_range = range(0, stop=π, length=100)\n",
    "v = ones(100)' .* v_range\n",
    "\n",
    "x = @. r_e * cos(u) * sin(v)\n",
    "y = @. r_e * sin(u) * sin(v)\n",
    "z = @. r_e * cos(v)\n",
    "\n",
    "layout = Layout(title=\"Demonatration of Numerical Propogator\")\n",
    "trace1 = surface(x=x, y=y, z=z, showscale=false)\n",
    "trace2 = scatter3d(x=(ECI_x ./ 1000), y=(ECI_y ./ 1000), z=(ECI_z ./ 1000),\n",
    "    mode=\"markers\",\n",
    "    marker=attr(\n",
    "        size=1,\n",
    "    ))\n",
    "p = plot([trace1, trace2], layout)\n",
    "savefig(p, \"orbit_propogator.png\")\n",
    "# Propogate orbit with known solutions to determine error\n",
    "#TBD!!!\n",
    "# Plot differences and compare to error from integrator\n",
    "#TBD!!!"
   ]
  },
  {
   "cell_type": "code",
   "execution_count": 4,
   "id": "0fb10506-7c29-4d13-9207-2446735bd240",
   "metadata": {},
   "outputs": [],
   "source": [
    "using Pkg"
   ]
  },
  {
   "cell_type": "code",
   "execution_count": null,
   "id": "04962ee8-bf77-461f-bcae-cb981069e913",
   "metadata": {},
   "outputs": [],
   "source": []
  }
 ],
 "metadata": {
  "@webio": {
   "lastCommId": "6fa85ddc-6f3f-4454-b58b-5c42c21551f4",
   "lastKernelId": "6fa14a44-46ae-4805-b022-98fcf8b7c2f0"
  },
  "kernelspec": {
   "display_name": "Julia 1.7.2",
   "language": "julia",
   "name": "julia-1.7"
  },
  "language_info": {
   "file_extension": ".jl",
   "mimetype": "application/julia",
   "name": "julia",
   "version": "1.7.2"
  }
 },
 "nbformat": 4,
 "nbformat_minor": 5
}
