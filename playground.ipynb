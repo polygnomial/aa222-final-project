{
 "cells": [
  {
   "cell_type": "code",
   "execution_count": 59,
   "id": "07eea075-4626-416b-9dd0-d8c399374edf",
   "metadata": {},
   "outputs": [
    {
     "data": {
      "text/plain": [
       "QParams(6500, 1, 1, 1, 1, 1, 3, 4, 2, 10, 6.0554544523933395e-6)"
      ]
     },
     "execution_count": 59,
     "metadata": {},
     "output_type": "execute_result"
    }
   ],
   "source": [
    "include(\"Qlaw.jl\")\n",
    "using StaticArrays\n",
    "\n",
    "kep_curr = KeplarianOrbit(\n",
    "    7000,\n",
    "    0.1,\n",
    "    0.05,\n",
    "    0,\n",
    "    0,\n",
    "    0\n",
    ")\n",
    "\n",
    "kep_targ = KeplarianOrbit(\n",
    "    42000,\n",
    "    0.01,\n",
    "    0.0,\n",
    "    0.0,\n",
    "    0.0,\n",
    "    0.0\n",
    ")\n",
    "ec = Keplarian2Equinoctial(kep_curr)\n",
    "equi_curr = SA_F64[\n",
    "    kep_curr.a,\n",
    "    ec.f,\n",
    "    ec.g,\n",
    "    ec.h,\n",
    "    ec.k,\n",
    "]\n",
    "\n",
    "et = Keplarian2Equinoctial(kep_targ)\n",
    "equi_targ = SA_F64[\n",
    "    kep_curr.a,\n",
    "    et.f,\n",
    "    et.g,\n",
    "    et.h,\n",
    "    et.k,\n",
    "]\n",
    "F_vec = [-981, 0, 0] # 100 kg spacecraft\n",
    "\n",
    "params = QParams(\n",
    "    6500,\n",
    "    1,\n",
    "    1,\n",
    "    1,\n",
    "    1,\n",
    "    1,\n",
    "    3,\n",
    "    4,\n",
    "    2,\n",
    "    10,\n",
    "    cbrt(eps(Float64))\n",
    ")"
   ]
  },
  {
   "cell_type": "code",
   "execution_count": 60,
   "id": "91899d9e-3d09-4b75-a7a8-736340df8952",
   "metadata": {},
   "outputs": [
    {
     "data": {
      "text/plain": [
       "3-element MVector{3, Float64} with indices SOneTo(3):\n",
       " -2.574670026619511e6\n",
       "  0.0\n",
       "  0.0"
      ]
     },
     "execution_count": 60,
     "metadata": {},
     "output_type": "execute_result"
    }
   ],
   "source": [
    "calc_D(equi_curr, equi_targ, F_vec, µ, params)"
   ]
  },
  {
   "cell_type": "code",
   "execution_count": 40,
   "id": "e1022682-a044-4e5f-b09a-69dfcae5af55",
   "metadata": {},
   "outputs": [
    {
     "data": {
      "text/plain": [
       "6-element SVector{6, Float64} with indices SOneTo(6):\n",
       " 6930.0\n",
       "    0.1\n",
       "    0.0\n",
       "    0.025005209635746147\n",
       "    0.0\n",
       "    0.0"
      ]
     },
     "execution_count": 40,
     "metadata": {},
     "output_type": "execute_result"
    }
   ],
   "source": [
    "equi_curr = SA_F64[\n",
    "    ec.p,\n",
    "    ec.f,\n",
    "    ec.g,\n",
    "    ec.h,\n",
    "    ec.k,\n",
    "    ec.L\n",
    "]"
   ]
  },
  {
   "cell_type": "code",
   "execution_count": 30,
   "id": "9a53a75d-8770-4ffa-a318-e0275537b9e4",
   "metadata": {},
   "outputs": [
    {
     "data": {
      "text/plain": [
       "5-element MVector{5, Float64} with indices SOneTo(5):\n",
       " 0.0\n",
       " 0.0\n",
       " 0.0\n",
       " 0.0\n",
       " 0.0"
      ]
     },
     "execution_count": 30,
     "metadata": {},
     "output_type": "execute_result"
    }
   ],
   "source": [
    "m = @MVector zeros(5)"
   ]
  },
  {
   "cell_type": "code",
   "execution_count": null,
   "id": "376d3ac7-0ee7-41e7-9b0e-a0a2af02131e",
   "metadata": {},
   "outputs": [],
   "source": []
  }
 ],
 "metadata": {
  "kernelspec": {
   "display_name": "Julia 1.7.2",
   "language": "julia",
   "name": "julia-1.7"
  },
  "language_info": {
   "file_extension": ".jl",
   "mimetype": "application/julia",
   "name": "julia",
   "version": "1.7.2"
  }
 },
 "nbformat": 4,
 "nbformat_minor": 5
}
