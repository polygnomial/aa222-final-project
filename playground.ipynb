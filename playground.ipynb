{
 "cells": [
  {
   "cell_type": "code",
   "execution_count": 5,
   "id": "07eea075-4626-416b-9dd0-d8c399374edf",
   "metadata": {},
   "outputs": [
    {
     "data": {
      "text/plain": [
       "QParams(6500, 1, 1, 1, 1, 1, 3, 4, 2, 10, 6.0554544523933395e-6)"
      ]
     },
     "execution_count": 5,
     "metadata": {},
     "output_type": "execute_result"
    }
   ],
   "source": [
    "include(\"Qlaw.jl\")\n",
    "kep_curr = KeplarianOrbit(\n",
    "    7000,\n",
    "    0.1,\n",
    "    0.05,\n",
    "    0,\n",
    "    0,\n",
    "    0\n",
    ")\n",
    "\n",
    "kep_targ = KeplarianOrbit(\n",
    "    42000,\n",
    "    0.01,\n",
    "    0.0,\n",
    "    0.0,\n",
    "    0.0,\n",
    "    0.0\n",
    ")\n",
    "ec = Keplarian2Equinoctial(kep_curr)\n",
    "equi_curr = [\n",
    "    ec.p,\n",
    "    ec.f,\n",
    "    ec.g,\n",
    "    ec.h,\n",
    "    ec.k,\n",
    "    ec.L\n",
    "]\n",
    "et = Keplarian2Equinoctial(kep_targ)\n",
    "equi_targ = [\n",
    "    et.p,\n",
    "    et.f,\n",
    "    et.g,\n",
    "    et.h,\n",
    "    et.k,\n",
    "    et.L\n",
    "]\n",
    "F_vec = [-981, 0, 0] # 100 kg spacecraft\n",
    "\n",
    "params = QParams(\n",
    "    6500,\n",
    "    1,\n",
    "    1,\n",
    "    1,\n",
    "    1,\n",
    "    1,\n",
    "    3,\n",
    "    4,\n",
    "    2,\n",
    "    10,\n",
    "    cbrt(eps(Float64))\n",
    ")"
   ]
  },
  {
   "cell_type": "code",
   "execution_count": 7,
   "id": "91899d9e-3d09-4b75-a7a8-736340df8952",
   "metadata": {},
   "outputs": [
    {
     "name": "stdout",
     "output_type": "stream",
     "text": [
      "QParams(6500, 1, 1, 1, 1, 1, 3, 4, 2, 10, 6.0554544523933395e-6)"
     ]
    },
    {
     "data": {
      "text/plain": [
       "3-element Vector{Float64}:\n",
       " -2.6508353473336047e11\n",
       "  0.0\n",
       "  0.0"
      ]
     },
     "execution_count": 7,
     "metadata": {},
     "output_type": "execute_result"
    }
   ],
   "source": [
    "calc_D(equi_curr, equi_targ, F_vec, µ, params)"
   ]
  }
 ],
 "metadata": {
  "kernelspec": {
   "display_name": "Julia 1.7.2",
   "language": "julia",
   "name": "julia-1.7"
  },
  "language_info": {
   "file_extension": ".jl",
   "mimetype": "application/julia",
   "name": "julia",
   "version": "1.7.2"
  }
 },
 "nbformat": 4,
 "nbformat_minor": 5
}
