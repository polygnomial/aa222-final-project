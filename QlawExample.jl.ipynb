{
  "cells": [
    {
      "cell_type": "code",
      "execution_count": 1,
      "id": "ee61ee38",
      "metadata": {},
      "outputs": [],
      "source": [
        "include(\"JQlaw.jl\")\n",
        "using .JQlaw\n",
        "using Evolutionary\n",
        "# using Plotly"
      ]
    },
    {
      "cell_type": "markdown",
      "id": "97c8f542",
      "metadata": {},
      "source": [
        "## Simple Orbit Raise Example"
      ]
    },
    {
      "cell_type": "code",
      "execution_count": 2,
      "id": "32ed0b34",
      "metadata": {},
      "outputs": [
        {
          "name": "stdout",
          "output_type": "stream",
          "text": [
            "Spent Prop: 0.39397022723132125[kg]\n",
            "Transfer Time: 0.6666666667442769[days]\n",
            "Spent Prop: 0.2956234215741347[kg]\n",
            "Transfer Time: 69.44444445252884[days]\n"
          ]
        }
      ],
      "source": [
        "orbit_initial = KeplarianOrbit(\n",
        "                450000. + R_e,\n",
        "                0.001,\n",
        "                deg2rad(0.001),\n",
        "                deg2rad(0.001),\n",
        "                deg2rad(0.001),\n",
        "                deg2rad(0)\n",
        "                )\n",
        "\n",
        "orbit_target = KeplarianOrbit(\n",
        "                600000. + R_e,\n",
        "                0.001,\n",
        "                deg2rad(0.001),\n",
        "                deg2rad(0.001),\n",
        "                deg2rad(0.001),\n",
        "                deg2rad(0)\n",
        "                )\n",
        "\n",
        "Q_Params = QParams(\n",
        "                1,\n",
        "                1,\n",
        "                R_e+300000., \n",
        "                1,\n",
        "                0,\n",
        "                0,\n",
        "                0,\n",
        "                0,\n",
        "                3,\n",
        "                4,\n",
        "                2,\n",
        "                10^-10,\n",
        "                0.5,\n",
        "                0,\n",
        "                10, \n",
        "                600.,\n",
        "                10^4,\n",
        "                10^3)\n",
        "\n",
        "Sat_Params = sat_params(100, 0.8, 0.5/100., 3100)\n",
        "\n",
        "time_initial = 59715.0 # MJD\n",
        "\n",
        "Q_hist, orbit_hist, time_hist, mass_hist = Qlaw(orbit_initial, orbit_target, Q_Params, Sat_Params, time_initial)\n",
        "\n",
        "print(\"Spent Prop: \", mass_hist[1] - mass_hist[end], \"[kg]\\n\")\n",
        "print(\"Transfer Time: \", time_hist[end] - time_hist[1], \"[days]\\n\")\n",
        "\n",
        "# change effectivity ratio to be more propellant safe...\n",
        "\n",
        "Q_Params = QParams(\n",
        "                1,\n",
        "                1,\n",
        "                R_e+300000., \n",
        "                1,\n",
        "                0,\n",
        "                0,\n",
        "                0,\n",
        "                0,\n",
        "                3,\n",
        "                4,\n",
        "                2,\n",
        "                10^-10,\n",
        "                0.6,\n",
        "                0,\n",
        "                10, \n",
        "                600.,\n",
        "                10^4,\n",
        "                10^3)\n",
        "\n",
        "Q_hist, orbit_hist, time_hist, mass_hist = Qlaw(orbit_inital, orbit_target, Q_Params, Sat_Params, time_initial)\n",
        "\n",
        "print(\"Spent Prop: \", mass_hist[1] - mass_hist[end], \"[kg]\\n\")\n",
        "print(\"Transfer Time: \", time_hist[end] - time_hist[1], \"[days]\\n\")"
      ]
    },
    {
      "cell_type": "code",
      "execution_count": 3,
      "id": "97bdb4a3-b872-4051-ab1b-ff5f8119a2f4",
      "metadata": {},
      "outputs": [
        {
          "data": {
            "text/plain": [
              "7-element Vector{Float64}:\n",
              "   3.0\n",
              "   4.0\n",
              "   2.0\n",
              "   0.5\n",
              "   0.0\n",
              "  10.0\n",
              " 500.0"
            ]
          },
          "execution_count": 3,
          "metadata": {},
          "output_type": "execute_result"
        }
      ],
      "source": [
        "initial_params = [3, 4, 2, 0.5, 0., 10., 500.]"
      ]
    },
    {
      "cell_type": "code",
      "execution_count": 4,
      "id": "70723eda-5de1-4622-a10d-865faacd96d9",
      "metadata": {},
      "outputs": [
        {
          "data": {
            "text/plain": [
              "7-element Vector{Int64}:\n",
              "    5\n",
              "    5\n",
              "    5\n",
              "    1\n",
              "    1\n",
              "   50\n",
              " 3000"
            ]
          },
          "execution_count": 4,
          "metadata": {},
          "output_type": "execute_result"
        }
      ],
      "source": [
        "lower = [0, 0, 0, 0, 0, 10, 500]\n",
        "upper = [5, 5, 5, 1, 1, 50, 3000]"
      ]
    },
    {
      "cell_type": "code",
      "execution_count": 5,
      "id": "f6290085-08cd-428b-b1f5-45c968935465",
      "metadata": {},
      "outputs": [
        {
          "data": {
            "text/plain": [
              "Box Constraints:\n",
              "    x[1]≥0, x[1]≤5, x[2]≥0, x[2]≤5, x[3]≥0, x[3]≤5, x[4]≥0, x[4]≤1, x[5]≥0, x[5]≤1, x[6]≥10, x[6]≤50, x[7]≥500, x[7]≤3000"
            ]
          },
          "execution_count": 5,
          "metadata": {},
          "output_type": "execute_result"
        }
      ],
      "source": [
        "BoxConstraints(lower, upper)"
      ]
    },
    {
      "cell_type": "code",
      "execution_count": 6,
      "id": "592474b7-de65-4481-8818-11fec4e0568b",
      "metadata": {},
      "outputs": [
        {
          "name": "stdout",
          "output_type": "stream",
          "text": [
            "Iter     Function value\n",
            "     0   0.36119577687757953\n",
            " * time: 0.005755901336669922\n",
            "     1   0.36119577687757953\n",
            " * time: 0.07395792007446289\n",
            "     2   0.36119577687757953\n",
            " * time: 0.11876177787780762\n"
          ]
        },
        {
          "data": {
            "text/plain": [
              "\n",
              " * Status: failure (reached maximum number of iterations)\n",
              "\n",
              " * Candidate solution\n",
              "    Minimizer:  [3.0, 4.0, 2.0,  ...]\n",
              "    Minimum:    0.36119577687757953\n",
              "    Iterations: 2\n",
              "\n",
              " * Found with\n",
              "    Algorithm: GA[P=3,x=0.4,μ=0.3,ɛ=0]\n",
              "\n",
              " * Convergence measures\n",
              "    |f(x) - f(x')| = 0.0 ≤ 1.0e-12\n",
              "\n",
              " * Work counters\n",
              "    Seconds run:   0.119 (vs limit 10.0)\n",
              "    Iterations:    2\n",
              "    f(x) calls:    9\n"
            ]
          },
          "execution_count": 6,
          "metadata": {},
          "output_type": "execute_result"
        }
      ],
      "source": [
        "objective = make_objective(orbit_initial, orbit_target, Q_Params, Sat_Params, time_initial)\n",
        "res = Evolutionary.optimize(objective,\n",
        "    BoxConstraints(lower, upper),\n",
        "    initial_params,\n",
        "    GA(selection=uniformranking(2),\n",
        "        populationSize=3,\n",
        "        mutationRate=0.3,\n",
        "        crossoverRate=0.4,\n",
        "        mutation=Evolutionary.gaussian(0.5), crossover=SPX),\n",
        "        Evolutionary.Options(\n",
        "            iterations=2,\n",
        "            show_trace=true,\n",
        "            time_limit=10.0))"
      ]
    },
    {
      "cell_type": "code",
      "execution_count": 7,
      "id": "79b45eb3-e847-4849-aa45-af9ff28cb4f1",
      "metadata": {},
      "outputs": [
        {
          "data": {
            "text/plain": [
              "7-element Vector{Float64}:\n",
              "   3.0\n",
              "   4.0\n",
              "   2.0\n",
              "   0.5\n",
              "   0.0\n",
              "  10.0\n",
              " 500.0"
            ]
          },
          "execution_count": 7,
          "metadata": {},
          "output_type": "execute_result"
        }
      ],
      "source": [
        "Evolutionary.minimizer(res)"
      ]
    },
    {
      "cell_type": "code",
      "execution_count": 8,
      "id": "46d5ecac-eb10-46f9-bc55-6e979d4fb455",
      "metadata": {},
      "outputs": [
        {
          "data": {
            "text/plain": [
              "12"
            ]
          },
          "execution_count": 8,
          "metadata": {},
          "output_type": "execute_result"
        }
      ],
      "source": [
        "convert(Int64, trunc(12.2))"
      ]
    },
    {
      "cell_type": "code",
      "execution_count": 9,
      "id": "76690803-95e1-46b5-bfea-0f202c9f65d7",
      "metadata": {},
      "outputs": [
        {
          "data": {
            "text/plain": [
              "12.0"
            ]
          },
          "execution_count": 9,
          "metadata": {},
          "output_type": "execute_result"
        }
      ],
      "source": [
        "trunc(12.2)"
      ]
    },
    {
      "cell_type": "code",
      "execution_count": 10,
      "id": "e08d8feb-330b-42ce-ba53-d2ad4e21f45e",
      "metadata": {},
      "outputs": [
        {
          "ename": "LoadError",
          "evalue": "No trace in optimization results. To get a trace, run optimize() with store_trace = true.",
          "output_type": "error",
          "traceback": [
            "No trace in optimization results. To get a trace, run optimize() with store_trace = true.",
            "",
            "Stacktrace:",
            " [1] error(s::String)",
            "   @ Base ./error.jl:33",
            " [2] trace(r::Evolutionary.EvolutionaryOptimizationResults{GA{Evolutionary.var\"#uniformrank#252\"{Evolutionary.var\"#uniformrank#251#253\"{Int64}}, typeof(SPX), Evolutionary.var\"#mutation#200\"{Evolutionary.var\"#mutation#199#201\"{Float64}}}, Vector{Float64}, Float64})",
            "   @ Evolutionary ~/.julia/packages/Evolutionary/65hL6/src/api/results.jl:46",
            " [3] top-level scope",
            "   @ In[10]:1",
            " [4] eval",
            "   @ ./boot.jl:373 [inlined]",
            " [5] include_string(mapexpr::typeof(REPL.softscope), mod::Module, code::String, filename::String)",
            "   @ Base ./loading.jl:1196"
          ]
        }
      ],
      "source": [
        "Evolutionary.trace(res)"
      ]
    }
  ],
  "metadata": {
    "@webio": {
      "lastCommId": "e496cc62-ecbc-49b3-aba5-89b806c7f87a",
      "lastKernelId": "3a00a2a9-6817-4ccf-a997-b80815c0bd46"
    },
    "kernelspec": {
      "display_name": "Julia 1.7.2",
      "language": "julia",
      "name": "julia-1.7"
    },
    "language_info": {
      "file_extension": ".jl",
      "mimetype": "application/julia",
      "name": "julia",
      "version": "1.7.2"
    }
  },
  "nbformat": 4,
  "nbformat_minor": 5
}
