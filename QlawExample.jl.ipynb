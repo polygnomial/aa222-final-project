{
 "cells": [
  {
   "cell_type": "code",
   "execution_count": 1,
   "id": "4279c421",
   "metadata": {},
   "outputs": [
    {
     "data": {
      "application/vnd.webio.node+json": {
       "children": [],
       "instanceArgs": {
        "namespace": "html",
        "tag": "div"
       },
       "nodeType": "DOM",
       "props": {},
       "type": "node"
      },
      "text/html": [
       "<div style=\"padding: 1em; background-color: #f8d6da; border: 1px solid #f5c6cb; font-weight: bold;\">\n",
       "<p>The WebIO Jupyter extension was not detected. See the\n",
       "<a href=\"https://juliagizmos.github.io/WebIO.jl/latest/providers/ijulia/\" target=\"_blank\">\n",
       "    WebIO Jupyter integration documentation\n",
       "</a>\n",
       "for more information.\n",
       "</div>\n"
      ],
      "text/plain": [
       "WebIO._IJuliaInit()"
      ]
     },
     "metadata": {
      "application/vnd.webio.node+json": {
       "kernelId": "f5b2258a-8d04-433f-b27f-f0e51db37b6f"
      }
     },
     "output_type": "display_data"
    }
   ],
   "source": [
    "include(\"JQlaw.jl\")\n",
    "using .JQlaw\n",
    "using Plotly"
   ]
  },
  {
   "cell_type": "markdown",
   "id": "f837cafe",
   "metadata": {},
   "source": [
    "## Simple Orbit Raise Example"
   ]
  },
  {
   "cell_type": "code",
   "execution_count": 2,
   "id": "c676223d",
   "metadata": {},
   "outputs": [
    {
     "ename": "LoadError",
     "evalue": "UndefVarError: sat_parame not defined",
     "output_type": "error",
     "traceback": [
      "UndefVarError: sat_parame not defined",
      "",
      "Stacktrace:",
      " [1] top-level scope",
      "   @ :0",
      " [2] eval",
      "   @ .\\boot.jl:360 [inlined]",
      " [3] include_string(mapexpr::typeof(REPL.softscope), mod::Module, code::String, filename::String)",
      "   @ Base .\\loading.jl:1094"
     ]
    }
   ],
   "source": [
    "# Create starting orbit and time, end time, step size\n",
    "orbit_inital_keplarian = KeplarianOrbit(\n",
    "                450000. + R_e,\n",
    "                0.001,\n",
    "                deg2rad(0.001),\n",
    "                deg2rad(0.001),\n",
    "                deg2rad(0.001),\n",
    "                deg2rad(0)\n",
    "                )\n",
    "\n",
    "orbit_target_keplarian = KeplarianOrbit(\n",
    "                600000. + R_e,\n",
    "                0.001,\n",
    "                deg2rad(0.001),\n",
    "                deg2rad(0.001),\n",
    "                deg2rad(0.001),\n",
    "                deg2rad(0)\n",
    "                )\n",
    "\n",
    "Q_Parameters = QParams(\n",
    "                1,\n",
    "                1,\n",
    "                R_e+300000, \n",
    "                1,\n",
    "                0,\n",
    "                0,\n",
    "                0,\n",
    "                0,\n",
    "                3,\n",
    "                4,\n",
    "                2,\n",
    "                10^-10,\n",
    "                0.5,\n",
    "                0,\n",
    "                10)\n",
    "\n",
    "sat_parameters = sat_params(100, 0.8, 2.)\n",
    "\n",
    "TODO !!!!\n",
    "\n",
    "\n",
    "\n",
    "\n",
    "# orbit_initial_equinoctial = Keplarian2Equinoctial(orbit_inital_keplarian)\n",
    "# orbit_initial = [orbit_initial_equinoctial.p,\n",
    "#                 orbit_initial_equinoctial.f,\n",
    "#                 orbit_initial_equinoctial.g,\n",
    "#                 orbit_initial_equinoctial.h,\n",
    "#                 orbit_initial_equinoctial.k,\n",
    "#                 orbit_initial_equinoctial.L]\n",
    "\n",
    "# time_initial = 59715.0 # MJD\n",
    "# step_size = 1. # seconds\n",
    "\n",
    "# accel_mag = 1. # m/s^2\n",
    "# sat_mass = 100 # kg\n",
    "# prop_ratio = 0.8 # unitless\n",
    "\n",
    "# q_params = QParams(\n",
    "#     6500,\n",
    "#     1,\n",
    "#     1,\n",
    "#     1,\n",
    "#     1,\n",
    "#     1,\n",
    "#     3,\n",
    "#     4,\n",
    "#     2,\n",
    "#     10,\n",
    "#     cbrt(eps(Float64))\n",
    "# )\n",
    "\n",
    "# q_conver\n",
    "\n",
    "\n",
    "# # Initialize history to store propogated orbits and error bounds\n",
    "# orbit_history = [orbit_initial]\n",
    "# error_history = [[0.,0.,0.,0.,0.,0.]]\n",
    "# time_history = [time_initial]\n",
    "\n",
    "# # Define integrator\n",
    "# GVE_Spiral(orbit, time) = GaussVariationalEquationsEquinoctial(orbit, time; accel=[0.,1.,0.])\n",
    "\n",
    "# # Integrate orbit with no external forces\n",
    "# time = time_initial\n",
    "# print(\"Starting integration...\\n\")\n",
    "# while time < time_end\n",
    "#     global time = time_history[end]\n",
    "#     orbit = orbit_history[end]\n",
    "#     orbit_new, error = RK45(orbit, time, step_size, dOEdt = GVE_Spiral)\n",
    "#     push!(time_history, time + (step_size / 60. / 60. / 24.))\n",
    "#     push!(orbit_history, orbit_new)\n",
    "#     push!(error_history, error)\n",
    "# end\n",
    "# print(\"Integration finished!\\n\")\n",
    "\n",
    "# # store ECI terms\n",
    "# ECI_x = []\n",
    "# ECI_y = []\n",
    "# ECI_z = []\n",
    "# for orbit in orbit_history\n",
    "#     equinoctial_orbit = EquinoctialOrbit(orbit[1], orbit[2], orbit[3], orbit[4], orbit[5], orbit[6])\n",
    "#     ECI_orbit = Equinoctial2ECI(equinoctial_orbit)\n",
    "#     push!(ECI_x, ECI_orbit[1])\n",
    "#     push!(ECI_y, ECI_orbit[2])\n",
    "#     push!(ECI_z, ECI_orbit[3])\n",
    "# end"
   ]
  },
  {
   "cell_type": "raw",
   "id": "298d5fe0",
   "metadata": {},
   "source": []
  }
 ],
 "metadata": {
  "@webio": {
   "lastCommId": "c2cf36469df54a418dedea8027ba8ea4",
   "lastKernelId": "f5b2258a-8d04-433f-b27f-f0e51db37b6f"
  },
  "kernelspec": {
   "display_name": "Julia 1.6.1",
   "language": "julia",
   "name": "julia-1.6"
  },
  "language_info": {
   "file_extension": ".jl",
   "mimetype": "application/julia",
   "name": "julia",
   "version": "1.6.1"
  }
 },
 "nbformat": 4,
 "nbformat_minor": 5
}
