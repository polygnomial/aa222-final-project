{
 "cells": [
  {
   "cell_type": "code",
   "execution_count": 1,
   "id": "ee61ee38",
   "metadata": {},
   "outputs": [
    {
     "data": {
      "application/vnd.webio.node+json": {
       "children": [],
       "instanceArgs": {
        "namespace": "html",
        "tag": "div"
       },
       "nodeType": "DOM",
       "props": {},
       "type": "node"
      },
      "text/html": [
       "<div style=\"padding: 1em; background-color: #f8d6da; border: 1px solid #f5c6cb; font-weight: bold;\">\n",
       "<p>The WebIO Jupyter extension was not detected. See the\n",
       "<a href=\"https://juliagizmos.github.io/WebIO.jl/latest/providers/ijulia/\" target=\"_blank\">\n",
       "    WebIO Jupyter integration documentation\n",
       "</a>\n",
       "for more information.\n",
       "</div>\n"
      ],
      "text/plain": [
       "WebIO._IJuliaInit()"
      ]
     },
     "metadata": {
      "application/vnd.webio.node+json": {
       "kernelId": "f5b2258a-8d04-433f-b27f-f0e51db37b6f"
      }
     },
     "output_type": "display_data"
    }
   ],
   "source": [
    "include(\"JQlaw.jl\")\n",
    "using .JQlaw\n",
    "using Plotly"
   ]
  },
  {
   "cell_type": "markdown",
   "id": "97c8f542",
   "metadata": {},
   "source": [
    "## Simple Orbit Raise Example"
   ]
  },
  {
   "cell_type": "code",
   "execution_count": 3,
   "id": "713831d0",
   "metadata": {},
   "outputs": [
    {
     "name": "stdout",
     "output_type": "stream",
     "text": [
      "Spent Prop: 0.39397022723132125[kg]\n",
      "Transfer Time: 0.6666666667442769[days]\n",
      "Spent Prop: 0.2956234215741347[kg]\n",
      "Transfer Time: 69.44444445252884[days]\n"
     ]
    }
   ],
   "source": [
    "orbit_inital = KeplarianOrbit(\n",
    "                450000. + R_e,\n",
    "                0.001,\n",
    "                deg2rad(0.001),\n",
    "                deg2rad(0.001),\n",
    "                deg2rad(0.001),\n",
    "                deg2rad(0)\n",
    "                )\n",
    "\n",
    "orbit_target = KeplarianOrbit(\n",
    "                600000. + R_e,\n",
    "                0.001,\n",
    "                deg2rad(0.001),\n",
    "                deg2rad(0.001),\n",
    "                deg2rad(0.001),\n",
    "                deg2rad(0)\n",
    "                )\n",
    "\n",
    "Q_Params = QParams(\n",
    "                1,\n",
    "                1,\n",
    "                R_e+300000., \n",
    "                1,\n",
    "                0,\n",
    "                0,\n",
    "                0,\n",
    "                0,\n",
    "                3,\n",
    "                4,\n",
    "                2,\n",
    "                10^-10,\n",
    "                0.5,\n",
    "                0,\n",
    "                10, \n",
    "                600.,\n",
    "                10^4,\n",
    "                10^3)\n",
    "\n",
    "Sat_Params = sat_params(100, 0.8, 0.5/100., 3100)\n",
    "\n",
    "time_initial = 59715.0 # MJD\n",
    "\n",
    "Q_hist, orbit_hist, time_hist, mass_hist = Qlaw(orbit_inital, orbit_target, Q_Params, Sat_Params, time_initial)\n",
    "\n",
    "print(\"Spent Prop: \", mass_hist[1] - mass_hist[end], \"[kg]\\n\")\n",
    "print(\"Transfer Time: \", time_hist[end] - time_hist[1], \"[days]\\n\")\n",
    "\n",
    "# change effectivity ratio to be more propellant safe...\n",
    "\n",
    "Q_Params = QParams(\n",
    "                1,\n",
    "                1,\n",
    "                R_e+300000., \n",
    "                1,\n",
    "                0,\n",
    "                0,\n",
    "                0,\n",
    "                0,\n",
    "                3,\n",
    "                4,\n",
    "                2,\n",
    "                10^-10,\n",
    "                0.6,\n",
    "                0,\n",
    "                10, \n",
    "                600.,\n",
    "                10^4,\n",
    "                10^3)\n",
    "\n",
    "Q_hist, orbit_hist, time_hist, mass_hist = Qlaw(orbit_inital, orbit_target, Q_Params, Sat_Params, time_initial)\n",
    "\n",
    "print(\"Spent Prop: \", mass_hist[1] - mass_hist[end], \"[kg]\\n\")\n",
    "print(\"Transfer Time: \", time_hist[end] - time_hist[1], \"[days]\\n\")"
   ]
  },
  {
   "cell_type": "raw",
   "id": "58070a29",
   "metadata": {},
   "source": []
  }
 ],
 "metadata": {
  "@webio": {
   "lastCommId": "5608770e6c394a0aa84229efcfdf6123",
   "lastKernelId": "f5b2258a-8d04-433f-b27f-f0e51db37b6f"
  },
  "kernelspec": {
   "display_name": "Julia 1.6.1",
   "language": "julia",
   "name": "julia-1.6"
  },
  "language_info": {
   "file_extension": ".jl",
   "mimetype": "application/julia",
   "name": "julia",
   "version": "1.6.1"
  }
 },
 "nbformat": 4,
 "nbformat_minor": 5
}
