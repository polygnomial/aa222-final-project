{
 "cells": [
  {
   "cell_type": "code",
   "execution_count": 1,
   "id": "544fd8d9",
   "metadata": {},
   "outputs": [],
   "source": [
    "include(\"JQlaw.jl\")\n",
    "using .JQlaw\n",
    "using Evolutionary\n",
    "# using Plotly"
   ]
  },
  {
   "cell_type": "markdown",
   "id": "879f3b44",
   "metadata": {},
   "source": [
    "## Simple Orbit Raise Example"
   ]
  },
  {
   "cell_type": "code",
   "execution_count": 2,
   "id": "32ed0b34",
   "metadata": {},
   "outputs": [
    {
     "name": "stdout",
     "output_type": "stream",
     "text": [
      "Spent Prop: 0.36119577687757953[kg]\n",
      "Transfer Time: 0.896990740657202[days]\n"
     ]
    }
   ],
   "source": [
    "orbit_inital = KeplarianOrbit(\n",
    "                450000. + R_e,\n",
    "                0.001,\n",
    "                deg2rad(0.001),\n",
    "                deg2rad(0.001),\n",
    "                deg2rad(0.001),\n",
    "                deg2rad(0)\n",
    "                )\n",
    "\n",
    "orbit_target = KeplarianOrbit(\n",
    "                600000. + R_e,\n",
    "                0.001,\n",
    "                deg2rad(0.001),\n",
    "                deg2rad(0.001),\n",
    "                deg2rad(0.001),\n",
    "                deg2rad(0)\n",
    "                )\n",
    "\n",
    "Q_Params = QParams(\n",
    "                1,\n",
    "                1,\n",
    "                R_e+300000., \n",
    "                1,\n",
    "                0,\n",
    "                0,\n",
    "                0,\n",
    "                0,\n",
    "                3,\n",
    "                4,\n",
    "                2,\n",
    "                10^-10,\n",
    "                0.5,\n",
    "                0,\n",
    "                10, \n",
    "                500.,\n",
    "                10^6,\n",
    "                10^3)\n",
    "\n",
    "Sat_Params = sat_params(100, 0.8, 0.5/100., 3100)\n",
    "\n",
    "time_initial = 59715.0 # MJD\n",
    "\n",
    "Q_hist, orbit_hist, time_hist, mass_hist = Qlaw(orbit_inital, orbit_target, Q_Params, Sat_Params, time_initial)\n",
    "\n",
    "print(\"Spent Prop: \", mass_hist[1] - mass_hist[end], \"[kg]\\n\")\n",
    "print(\"Transfer Time: \", time_hist[end] - time_hist[1], \"[days]\\n\")\n",
    "\n",
    "# # change effectivity ratio to be more propellant safe...\n",
    "\n",
    "# Q_Params = QParams(\n",
    "#                 1,\n",
    "#                 1,\n",
    "#                 R_e+300000., \n",
    "#                 1,\n",
    "#                 0,\n",
    "#                 0,\n",
    "#                 0,\n",
    "#                 0,\n",
    "#                 3,\n",
    "#                 4,\n",
    "#                 2,\n",
    "#                 10^-10,\n",
    "#                 0.9,\n",
    "#                 0,\n",
    "#                 10, \n",
    "#                 500.,\n",
    "#                 10^6,\n",
    "#                 10^3)\n",
    "\n",
    "# Q_hist, orbit_hist, time_hist, mass_hist = Qlaw(orbit_inital, orbit_target, Q_Params, Sat_Params, time_initial)\n",
    "\n",
    "# print(\"Spent Prop: \", mass_hist[1] - mass_hist[end], \"[kg]\\n\")\n",
    "# print(\"Transfer Time: \", time_hist[end] - time_hist[1], \"[days]\\n\")"
   ]
  },
  {
   "cell_type": "code",
   "execution_count": 3,
   "id": "a6381736-7f8b-4efa-b4fe-7060aaf25ccd",
   "metadata": {},
   "outputs": [
    {
     "data": {
      "text/plain": [
       "18-element Vector{Float64}:\n",
       "    1.0\n",
       "    1.0\n",
       "    6.671e6\n",
       "    1.0\n",
       "    0.0\n",
       "    0.0\n",
       "    0.0\n",
       "    0.0\n",
       "    3.0\n",
       "    4.0\n",
       "    2.0\n",
       "    1.0000000000000006e-10\n",
       "    0.5\n",
       "    0.0\n",
       "   10.0\n",
       "  500.0\n",
       "    1.0e6\n",
       " 1000.0"
      ]
     },
     "execution_count": 3,
     "metadata": {},
     "output_type": "execute_result"
    }
   ],
   "source": [
    "function QlawArray(x)\n",
    "    q_params = QParams(\n",
    "        1,\n",
    "        1,\n",
    "        R_e+300000., \n",
    "        1,\n",
    "        0,\n",
    "        0,\n",
    "        0,\n",
    "        0,\n",
    "        a[1],\n",
    "        a[2],\n",
    "        a[3],\n",
    "        10^-10,\n",
    "        a[4],\n",
    "        a[5],\n",
    "        a[6],\n",
    "        a[7],\n",
    "        10^6,\n",
    "        10^3\n",
    "    )\n",
    "    Q_hist, orbit_hist, time_hist, mass_hist = Qlaw(orbit_inital, orbit_target, Q_Params, Sat_Params, time_initial) \n",
    "    return mass_hist[1] - mass_hist[end]\n",
    "end\n",
    "    "
   ]
  },
  {
   "cell_type": "code",
   "execution_count": 4,
   "id": "97bdb4a3-b872-4051-ab1b-ff5f8119a2f4",
   "metadata": {},
   "outputs": [
    {
     "data": {
      "text/plain": [
       "7-element Vector{Float64}:\n",
       "   3.0\n",
       "   4.0\n",
       "   2.0\n",
       "   0.5\n",
       "   0.0\n",
       "  10.0\n",
       " 500.0"
      ]
     },
     "execution_count": 4,
     "metadata": {},
     "output_type": "execute_result"
    }
   ],
   "source": [
    "initial_params = [3, 4, 2, 0.5, 0., 10., 500.]"
   ]
  },
  {
   "cell_type": "code",
   "execution_count": 23,
   "id": "592474b7-de65-4481-8818-11fec4e0568b",
   "metadata": {},
   "outputs": [
    {
     "data": {
      "text/plain": [
       "\n",
       " * Status: success\n",
       "\n",
       " * Candidate solution\n",
       "    Minimizer:  [3.0, 4.0, 2.0,  ...]\n",
       "    Minimum:    -0.36119577687757953\n",
       "    Iterations: 12\n",
       "\n",
       " * Found with\n",
       "    Algorithm: GA[P=50,x=0.8,μ=0.1,ɛ=0]\n",
       "\n",
       " * Convergence measures\n",
       "    |f(x) - f(x')| = 0.0 ≤ 1.0e-12\n",
       "\n",
       " * Work counters\n",
       "    Seconds run:   8.7435 (vs limit Inf)\n",
       "    Iterations:    12\n",
       "    f(x) calls:    650\n"
      ]
     },
     "execution_count": 23,
     "metadata": {},
     "output_type": "execute_result"
    }
   ],
   "source": [
    "res = Evolutionary.optimize(x->-QlawArray(x),\n",
    "    initial_params,\n",
    "    GA())"
   ]
  },
  {
   "cell_type": "code",
   "execution_count": null,
   "id": "aac5fcc8-1ad4-4e45-aeee-9a438d0016aa",
   "metadata": {},
   "outputs": [],
   "source": []
  }
 ],
 "metadata": {
  "@webio": {
   "lastCommId": "e496cc62-ecbc-49b3-aba5-89b806c7f87a",
   "lastKernelId": "3a00a2a9-6817-4ccf-a997-b80815c0bd46"
  },
  "kernelspec": {
   "display_name": "Julia 1.7.2",
   "language": "julia",
   "name": "julia-1.7"
  },
  "language_info": {
   "file_extension": ".jl",
   "mimetype": "application/julia",
   "name": "julia",
   "version": "1.7.2"
  }
 },
 "nbformat": 4,
 "nbformat_minor": 5
}
