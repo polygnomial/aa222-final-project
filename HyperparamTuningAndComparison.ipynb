{
 "cells": [
  {
   "cell_type": "code",
   "execution_count": 1,
   "id": "5ae34fa1-bf57-4828-ba6b-6a8805fcf446",
   "metadata": {},
   "outputs": [],
   "source": [
    "include(\"JQlaw.jl\")\n",
    "using .JQlaw\n",
    "using Evolutionary"
   ]
  },
  {
   "cell_type": "code",
   "execution_count": 2,
   "id": "9c18a876-b8e7-432c-aa7a-c108217c3275",
   "metadata": {},
   "outputs": [
    {
     "data": {
      "text/plain": [
       "59715.0"
      ]
     },
     "execution_count": 2,
     "metadata": {},
     "output_type": "execute_result"
    }
   ],
   "source": [
    "Q_Params_GA = QParams(\n",
    "                1,\n",
    "                1,\n",
    "                R_e+300000., \n",
    "                1,\n",
    "                0,\n",
    "                0,\n",
    "                0,\n",
    "                0,\n",
    "                3.3291388733760243,\n",
    "                3.3018834477150794,\n",
    "                2.3490588383385282,\n",
    "                10^-10,\n",
    "                1.0,\n",
    "                0.41853098046483767,\n",
    "                10, \n",
    "                500.,\n",
    "                10^6,\n",
    "                10^3)\n",
    "\n",
    "orbit_initial = KeplarianOrbit(\n",
    "                450000. + R_e,\n",
    "                0.001,\n",
    "                deg2rad(0.001),\n",
    "                deg2rad(0.001),\n",
    "                deg2rad(0.001),\n",
    "                deg2rad(0)\n",
    "                )\n",
    "\n",
    "orbit_target = KeplarianOrbit(\n",
    "                600000. + R_e,\n",
    "                0.001,\n",
    "                deg2rad(0.001),\n",
    "                deg2rad(0.001),\n",
    "                deg2rad(0.001),\n",
    "                deg2rad(0)\n",
    "                )\n",
    "\n",
    "Q_Params = QParams(\n",
    "                1,\n",
    "                1,\n",
    "                R_e+300000., \n",
    "                1,\n",
    "                0,\n",
    "                0,\n",
    "                0,\n",
    "                0,\n",
    "                3,\n",
    "                4,\n",
    "                2,\n",
    "                10^-10,\n",
    "                0.5,\n",
    "                0,\n",
    "                10, \n",
    "                500.,\n",
    "                10^6,\n",
    "                10^3)\n",
    "\n",
    "Sat_Params = sat_params(100, 0.8, 0.5/100., 3100)\n",
    "time_initial = 59715.0 # MJD"
   ]
  },
  {
   "cell_type": "code",
   "execution_count": 3,
   "id": "7f5ddd56-295f-490e-905a-1fc53218c987",
   "metadata": {},
   "outputs": [
    {
     "name": "stdout",
     "output_type": "stream",
     "text": [
      "Spent Prop: 0.36119577687757953[kg]\n",
      "Transfer Time: 0.896990740657202[days]\n"
     ]
    }
   ],
   "source": [
    "Q_hist, orbit_hist, time_hist, mass_hist = Qlaw(orbit_initial, orbit_target, Q_Params, Sat_Params, time_initial)\n",
    "\n",
    "print(\"Spent Prop: \", mass_hist[1] - mass_hist[end], \"[kg]\\n\")\n",
    "print(\"Transfer Time: \", time_hist[end] - time_hist[1], \"[days]\\n\")"
   ]
  },
  {
   "cell_type": "code",
   "execution_count": 4,
   "id": "11516ccd-2b1f-4301-bad7-5629e686c186",
   "metadata": {},
   "outputs": [
    {
     "name": "stdout",
     "output_type": "stream",
     "text": [
      "Spent Prop (GA): 0.271019325595077[kg]\n",
      "Transfer Time (GA): 5787.037036498077[days]\n"
     ]
    }
   ],
   "source": [
    "Q_hist_GA, orbit_hist_GA, time_hist_GA, mass_hist_GA = Qlaw(orbit_initial, orbit_target, Q_Params_GA, Sat_Params, time_initial)\n",
    "\n",
    "print(\"Spent Prop (GA): \", mass_hist_GA[1] - mass_hist_GA[end], \"[kg]\\n\")\n",
    "print(\"Transfer Time (GA): \", time_hist_GA[end] - time_hist_GA[1], \"[days]\\n\")"
   ]
  },
  {
   "cell_type": "code",
   "execution_count": 6,
   "id": "ed3862df-94ef-45ce-8aa2-06afd4a41f7d",
   "metadata": {},
   "outputs": [
    {
     "data": {
      "text/plain": [
       "KeplarianOrbit(7.371e6, 0.001, 1.7453292519943296e-5, 1.7453292519943296e-5, 1.7453292519943296e-5, 0.0)"
      ]
     },
     "execution_count": 6,
     "metadata": {},
     "output_type": "execute_result"
    }
   ],
   "source": [
    "orbit_initial = KeplarianOrbit(\n",
    "                450000. + R_e,\n",
    "                0.001,\n",
    "                deg2rad(0.001),\n",
    "                deg2rad(0.001),\n",
    "                deg2rad(0.001),\n",
    "                deg2rad(0)\n",
    "                )\n",
    "\n",
    "orbit_target = KeplarianOrbit(\n",
    "                1000000. + R_e,\n",
    "                0.001,\n",
    "                deg2rad(0.001),\n",
    "                deg2rad(0.001),\n",
    "                deg2rad(0.001),\n",
    "                deg2rad(0)\n",
    "                )"
   ]
  },
  {
   "cell_type": "code",
   "execution_count": 7,
   "id": "d992efdc-184f-49e6-8076-013f8f775a2f",
   "metadata": {},
   "outputs": [
    {
     "name": "stdout",
     "output_type": "stream",
     "text": [
      "Spent Prop: 1.2097536117927916[kg]\n",
      "Transfer Time: 1.8287037035333924[days]\n"
     ]
    }
   ],
   "source": [
    "Q_hist, orbit_hist, time_hist, mass_hist = Qlaw(orbit_initial, orbit_target, Q_Params, Sat_Params, time_initial)\n",
    "\n",
    "print(\"Spent Prop: \", mass_hist[1] - mass_hist[end], \"[kg]\\n\")\n",
    "print(\"Transfer Time: \", time_hist[end] - time_hist[1], \"[days]\\n\")"
   ]
  },
  {
   "cell_type": "code",
   "execution_count": 8,
   "id": "f779fecf-e106-46da-9cff-0fa6b9adb45e",
   "metadata": {},
   "outputs": [
    {
     "name": "stdout",
     "output_type": "stream",
     "text": [
      "Spent Prop (GA): 0.916842998243439[kg]\n",
      "Transfer Time (GA): 200.7870370183373[days]\n"
     ]
    }
   ],
   "source": [
    "Q_hist_GA, orbit_hist_GA, time_hist_GA, mass_hist_GA = Qlaw(orbit_initial, orbit_target, Q_Params_GA, Sat_Params, time_initial)\n",
    "\n",
    "print(\"Spent Prop (GA): \", mass_hist_GA[1] - mass_hist_GA[end], \"[kg]\\n\")\n",
    "print(\"Transfer Time (GA): \", time_hist_GA[end] - time_hist_GA[1], \"[days]\\n\")"
   ]
  },
  {
   "cell_type": "code",
   "execution_count": 17,
   "id": "df8d6375-f74e-4b57-a8ea-61a0a8c527d8",
   "metadata": {},
   "outputs": [
    {
     "data": {
      "text/plain": [
       "600.0"
      ]
     },
     "execution_count": 17,
     "metadata": {},
     "output_type": "execute_result"
    }
   ],
   "source": [
    "(600000 )/ 1000"
   ]
  },
  {
   "cell_type": "code",
   "execution_count": 3,
   "id": "30582380-36a8-4377-82ca-c11e6a437ef9",
   "metadata": {},
   "outputs": [
    {
     "data": {
      "text/plain": [
       "7-element Vector{Float64}:\n",
       "   3.0\n",
       "   4.0\n",
       "   2.0\n",
       "   0.5\n",
       "   0.0\n",
       "  10.0\n",
       " 500.0"
      ]
     },
     "execution_count": 3,
     "metadata": {},
     "output_type": "execute_result"
    }
   ],
   "source": [
    "initial_params = [3, 4, 2, 0.5, 0., 10., 500.]"
   ]
  },
  {
   "cell_type": "code",
   "execution_count": 4,
   "id": "7d3b1809-d315-467f-9ca5-f1fc05257889",
   "metadata": {},
   "outputs": [
    {
     "data": {
      "text/plain": [
       "7-element Vector{Int64}:\n",
       "    5\n",
       "    5\n",
       "    5\n",
       "    1\n",
       "    1\n",
       "   50\n",
       " 3000"
      ]
     },
     "execution_count": 4,
     "metadata": {},
     "output_type": "execute_result"
    }
   ],
   "source": [
    "lower = [0, 0, 0, 0, 0, 10, 500]\n",
    "upper = [5, 5, 5, 1, 1, 50, 3000]"
   ]
  },
  {
   "cell_type": "code",
   "execution_count": 5,
   "id": "be660d1b-91c4-43bd-9edb-af47a54b1ab5",
   "metadata": {},
   "outputs": [
    {
     "data": {
      "text/plain": [
       "Box Constraints:\n",
       "    x[1]≥0, x[1]≤5, x[2]≥0, x[2]≤5, x[3]≥0, x[3]≤5, x[4]≥0, x[4]≤1, x[5]≥0, x[5]≤1, x[6]≥10, x[6]≤50, x[7]≥500, x[7]≤3000"
      ]
     },
     "execution_count": 5,
     "metadata": {},
     "output_type": "execute_result"
    }
   ],
   "source": [
    "BoxConstraints(lower, upper)"
   ]
  },
  {
   "cell_type": "code",
   "execution_count": 6,
   "id": "6cab7c29-f545-4c87-950a-2422de6cf39d",
   "metadata": {},
   "outputs": [
    {
     "name": "stdout",
     "output_type": "stream",
     "text": [
      "Iter     Function value\n",
      "     0   0.36119577687757953\n",
      " * time: 0.006648063659667969\n",
      "     1   0.271019325595077\n",
      " * time: 1077.785670042038\n"
     ]
    },
    {
     "data": {
      "text/plain": [
       "\n",
       " * Status: failure (exceeded time limit of 1000.0)\n",
       "\n",
       " * Candidate solution\n",
       "    Minimizer:  [2.3359035570241327, 3.0529053249836977, 1.8310051294478074,  ...]\n",
       "    Minimum:    0.271019325595077\n",
       "    Iterations: 1\n",
       "\n",
       " * Found with\n",
       "    Algorithm: GA[P=20,x=0.4,μ=0.3,ɛ=0]\n",
       "\n",
       " * Convergence measures\n",
       "    |f(x) - f(x')| = 0.271019325595077 ≰ 1.0e-12\n",
       "\n",
       " * Work counters\n",
       "    Seconds run:   1077.786 (vs limit 1000.0)\n",
       "    Iterations:    1\n",
       "    f(x) calls:    40\n"
      ]
     },
     "execution_count": 6,
     "metadata": {},
     "output_type": "execute_result"
    }
   ],
   "source": [
    "objective = make_objective(orbit_initial, orbit_target, Q_Params, Sat_Params, time_initial)\n",
    "res = Evolutionary.optimize(objective,\n",
    "    BoxConstraints(lower, upper),\n",
    "    initial_params,\n",
    "    GA(selection=uniformranking(3),\n",
    "        populationSize=20,\n",
    "        mutationRate=0.3,\n",
    "        crossoverRate=0.4,\n",
    "        mutation=Evolutionary.gaussian(0.5), crossover=SPX),\n",
    "        Evolutionary.Options(\n",
    "            iterations=5,\n",
    "            show_trace=true,\n",
    "            store_trace=true,\n",
    "            time_limit=1000.0))"
   ]
  },
  {
   "cell_type": "code",
   "execution_count": 7,
   "id": "46fcf7b6-5159-43a1-be95-2fc4e3627065",
   "metadata": {},
   "outputs": [
    {
     "data": {
      "text/plain": [
       "7-element Vector{Float64}:\n",
       "   2.3359035570241327\n",
       "   3.0529053249836977\n",
       "   1.8310051294478074\n",
       "   1.0\n",
       "   0.7660234388924794\n",
       "  10.0\n",
       " 500.0"
      ]
     },
     "execution_count": 7,
     "metadata": {},
     "output_type": "execute_result"
    }
   ],
   "source": [
    "Evolutionary.minimizer(res)"
   ]
  },
  {
   "cell_type": "code",
   "execution_count": 10,
   "id": "eb9463ba-05c8-4999-83c8-300fc22569fb",
   "metadata": {},
   "outputs": [
    {
     "data": {
      "text/plain": [
       "2-element Vector{Evolutionary.OptimizationTraceRecord{Float64, GA{Evolutionary.var\"#uniformrank#252\"{Evolutionary.var\"#uniformrank#251#253\"{Int64}}, typeof(SPX), Evolutionary.var\"#mutation#200\"{Evolutionary.var\"#mutation#199#201\"{Float64}}}}}:\n",
       "      0   0.36119577687757953\n",
       " * time: 0.006648063659667969\n",
       "      1   0.271019325595077\n",
       " * time: 1077.785670042038"
      ]
     },
     "execution_count": 10,
     "metadata": {},
     "output_type": "execute_result"
    }
   ],
   "source": [
    "Evolutionary.trace(res)"
   ]
  },
  {
   "cell_type": "code",
   "execution_count": 11,
   "id": "557c3c9b-4b25-4f17-a2c2-8022646ec3cd",
   "metadata": {},
   "outputs": [
    {
     "name": "stdout",
     "output_type": "stream",
     "text": [
      "Iter     Function value\n",
      "     0   0.36119577687757953\n",
      " * time: 7.390975952148438e-5\n"
     ]
    },
    {
     "ename": "LoadError",
     "evalue": "InterruptException:",
     "output_type": "error",
     "traceback": [
      "InterruptException:",
      "",
      "Stacktrace:",
      "  [1] getindex",
      "    @ ./tuple.jl:29 [inlined]",
      "  [2] hvcat_fill!(a::Matrix{Float64}, xs::Tuple{Int64, Float64, Int64, Float64, Float64, Float64, Float64, Float64, Float64, Int64, Int64, Float64, Int64, Int64, Float64, Int64, Int64, Float64})",
      "    @ Base ./abstractarray.jl:2012",
      "  [3] typed_hvcat(::Type{Float64}, ::NTuple{6, Int64}, ::Int64, ::Vararg{Number})",
      "    @ Base ./abstractarray.jl:2030",
      "  [4] hvcat",
      "    @ ./abstractarray.jl:2019 [inlined]",
      "  [5] GaussVariationalEquationsEquinoctial(orbit::Vector{Float64}, time::Float64; accel::Vector{Float64})",
      "    @ Main.JQlaw ~/Desktop/f/orgs/stanford/3/cs361/projects/final-project/Qlaw.jl:104",
      "  [6] GaussVariationalEquationsEquinoctial",
      "    @ ~/Desktop/f/orgs/stanford/3/cs361/projects/final-project/Qlaw.jl:89 [inlined]",
      "  [7] RK45(orbit::Vector{Float64}, time::Float64, step::Float64; dOEdt::typeof(GaussVariationalEquationsEquinoctial))",
      "    @ Main.JQlaw ~/Desktop/f/orgs/stanford/3/cs361/projects/final-project/Integrator.jl:38",
      "  [8] Qlaw(orbit_inital::KeplarianOrbit, orbit_target::KeplarianOrbit, Q_Params::QParams, Sat_Params::sat_params, time_initial::Float64)",
      "    @ Main.JQlaw ~/Desktop/f/orgs/stanford/3/cs361/projects/final-project/Qlaw.jl:383",
      "  [9] (::Main.JQlaw.var\"#QlawArray#8\"{KeplarianOrbit, KeplarianOrbit, QParams, sat_params, Float64})(a::Vector{Float64})",
      "    @ Main.JQlaw ~/Desktop/f/orgs/stanford/3/cs361/projects/final-project/Qlaw.jl:426",
      " [10] value",
      "    @ ~/.julia/packages/Evolutionary/65hL6/src/api/objective.jl:52 [inlined]",
      " [11] #7",
      "    @ ~/.julia/packages/Evolutionary/65hL6/src/api/objective.jl:82 [inlined]",
      " [12] _broadcast_getindex_evalf",
      "    @ ./broadcast.jl:670 [inlined]",
      " [13] _broadcast_getindex",
      "    @ ./broadcast.jl:643 [inlined]",
      " [14] getindex",
      "    @ ./broadcast.jl:597 [inlined]",
      " [15] macro expansion",
      "    @ ./broadcast.jl:961 [inlined]",
      " [16] macro expansion",
      "    @ ./simdloop.jl:77 [inlined]",
      " [17] copyto!",
      "    @ ./broadcast.jl:960 [inlined]",
      " [18] copyto!",
      "    @ ./broadcast.jl:913 [inlined]",
      " [19] materialize!",
      "    @ ./broadcast.jl:871 [inlined]",
      " [20] materialize!",
      "    @ ./broadcast.jl:868 [inlined]",
      " [21] broadcast!(f::Evolutionary.var\"#7#8\"{EvolutionaryObjective{Main.JQlaw.var\"#QlawArray#8\"{KeplarianOrbit, KeplarianOrbit, QParams, sat_params, Float64}, Float64, Vector{Float64}, Val{:serial}}}, dest::Vector{Float64}, As::Vector{Vector{Float64}})",
      "    @ Base.Broadcast ./broadcast.jl:837",
      " [22] value!",
      "    @ ~/.julia/packages/Evolutionary/65hL6/src/api/objective.jl:82 [inlined]",
      " [23] evaluate!",
      "    @ ~/.julia/packages/Evolutionary/65hL6/src/ga.jl:129 [inlined]",
      " [24] update_state!(objfun::EvolutionaryObjective{Main.JQlaw.var\"#QlawArray#8\"{KeplarianOrbit, KeplarianOrbit, QParams, sat_params, Float64}, Float64, Vector{Float64}, Val{:serial}}, constraints::BoxConstraints{Int64}, state::Evolutionary.GAState{Float64, Vector{Float64}}, parents::Vector{Vector{Float64}}, method::GA{Evolutionary.var\"#uniformrank#252\"{Evolutionary.var\"#uniformrank#251#253\"{Int64}}, typeof(SPX), Evolutionary.var\"#mutation#200\"{Evolutionary.var\"#mutation#199#201\"{Float64}}}, options::Evolutionary.Options{Nothing, Random.TaskLocalRNG}, itr::Int64)",
      "    @ Evolutionary ~/.julia/packages/Evolutionary/65hL6/src/ga.jl:89",
      " [25] optimize(objfun::EvolutionaryObjective{Main.JQlaw.var\"#QlawArray#8\"{KeplarianOrbit, KeplarianOrbit, QParams, sat_params, Float64}, Float64, Vector{Float64}, Val{:serial}}, constraints::BoxConstraints{Int64}, method::GA{Evolutionary.var\"#uniformrank#252\"{Evolutionary.var\"#uniformrank#251#253\"{Int64}}, typeof(SPX), Evolutionary.var\"#mutation#200\"{Evolutionary.var\"#mutation#199#201\"{Float64}}}, population::Vector{Vector{Float64}}, options::Evolutionary.Options{Nothing, Random.TaskLocalRNG}, state::Evolutionary.GAState{Float64, Vector{Float64}})",
      "    @ Evolutionary ~/.julia/packages/Evolutionary/65hL6/src/api/optimize.jl:105",
      " [26] optimize(objfun::EvolutionaryObjective{Main.JQlaw.var\"#QlawArray#8\"{KeplarianOrbit, KeplarianOrbit, QParams, sat_params, Float64}, Float64, Vector{Float64}, Val{:serial}}, constraints::BoxConstraints{Int64}, method::GA{Evolutionary.var\"#uniformrank#252\"{Evolutionary.var\"#uniformrank#251#253\"{Int64}}, typeof(SPX), Evolutionary.var\"#mutation#200\"{Evolutionary.var\"#mutation#199#201\"{Float64}}}, population::Vector{Vector{Float64}}, options::Evolutionary.Options{Nothing, Random.TaskLocalRNG})",
      "    @ Evolutionary ~/.julia/packages/Evolutionary/65hL6/src/api/optimize.jl:70",
      " [27] optimize(f::Main.JQlaw.var\"#QlawArray#8\"{KeplarianOrbit, KeplarianOrbit, QParams, sat_params, Float64}, constraints::BoxConstraints{Int64}, method::GA{Evolutionary.var\"#uniformrank#252\"{Evolutionary.var\"#uniformrank#251#253\"{Int64}}, typeof(SPX), Evolutionary.var\"#mutation#200\"{Evolutionary.var\"#mutation#199#201\"{Float64}}}, population::Vector{Vector{Float64}}, opts::Evolutionary.Options{Nothing, Random.TaskLocalRNG})",
      "    @ Evolutionary ~/.julia/packages/Evolutionary/65hL6/src/api/optimize.jl:55",
      " [28] optimize(f::Main.JQlaw.var\"#QlawArray#8\"{KeplarianOrbit, KeplarianOrbit, QParams, sat_params, Float64}, constraints::BoxConstraints{Int64}, individual::Vector{Float64}, method::GA{Evolutionary.var\"#uniformrank#252\"{Evolutionary.var\"#uniformrank#251#253\"{Int64}}, typeof(SPX), Evolutionary.var\"#mutation#200\"{Evolutionary.var\"#mutation#199#201\"{Float64}}}, opts::Evolutionary.Options{Nothing, Random.TaskLocalRNG})",
      "    @ Evolutionary ~/.julia/packages/Evolutionary/65hL6/src/api/optimize.jl:42",
      " [29] eval",
      "    @ ./boot.jl:373 [inlined]",
      " [30] include_string(mapexpr::typeof(REPL.softscope), mod::Module, code::String, filename::String)",
      "    @ Base ./loading.jl:1196"
     ]
    }
   ],
   "source": [
    "objective = make_objective(orbit_initial, orbit_target, Q_Params, Sat_Params, time_initial)\n",
    "res2 = Evolutionary.optimize(objective,\n",
    "    BoxConstraints(lower, upper),\n",
    "    initial_params,\n",
    "    GA(selection=uniformranking(3),\n",
    "        populationSize=20,\n",
    "        mutationRate=0.3,\n",
    "        crossoverRate=0.4,\n",
    "        mutation=Evolutionary.gaussian(0.5), crossover=SPX),\n",
    "        Evolutionary.Options(\n",
    "            iterations=5,\n",
    "            show_trace=true,\n",
    "            time_limit=1000.0))"
   ]
  },
  {
   "cell_type": "code",
   "execution_count": null,
   "id": "1b6589b0-9777-4cff-a156-3a2fa51187dd",
   "metadata": {},
   "outputs": [],
   "source": [
    "Q_hist, orbit_hist, time_hist, mass_hist = Qlaw(orbit_initial, orbit_target, Q_Params, Sat_Params, time_initial)\n",
    "\n",
    "print(\"Spent Prop: \", mass_hist[1] - mass_hist[end], \"[kg]\\n\")\n",
    "print(\"Transfer Time: \", time_hist[end] - time_hist[1], \"[days]\\n\")"
   ]
  }
 ],
 "metadata": {
  "kernelspec": {
   "display_name": "Julia 1.7.2",
   "language": "julia",
   "name": "julia-1.7"
  },
  "language_info": {
   "file_extension": ".jl",
   "mimetype": "application/julia",
   "name": "julia",
   "version": "1.7.2"
  }
 },
 "nbformat": 4,
 "nbformat_minor": 5
}
